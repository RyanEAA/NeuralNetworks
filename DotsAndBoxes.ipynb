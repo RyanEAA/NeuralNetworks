{
  "nbformat": 4,
  "nbformat_minor": 0,
  "metadata": {
    "colab": {
      "provenance": []
    },
    "kernelspec": {
      "name": "python3",
      "display_name": "Python 3"
    },
    "language_info": {
      "name": "python"
    }
  },
  "cells": [
    {
      "cell_type": "markdown",
      "source": [
        "\n",
        "Complete the code in the blocks below. Do not alter blocks that indicate that they should not be changed.\n",
        "\n",
        "Look for blocks that say \"FILL IN THIS SECTION\""
      ],
      "metadata": {
        "id": "R_x8Gy5CJjeZ"
      }
    },
    {
      "cell_type": "markdown",
      "source": [
        "FILL IN THIS SECTION\n",
        "\n",
        "Author(s):"
      ],
      "metadata": {
        "id": "2HJPoISdJlGj"
      }
    },
    {
      "cell_type": "markdown",
      "source": [],
      "metadata": {
        "id": "IxD2znrweCxp"
      }
    },
    {
      "cell_type": "markdown",
      "source": [
        "In this homework we will write a program to play a game called **Dots and Boxes**. The rules for this game are:\n",
        "\n",
        "*The game starts with an empty grid of dots. Usually two players take turns adding a single horizontal or vertical line between two unjoined adjacent dots. A player who completes the fourth side of a 1×1 box earns one point and takes another turn. A point is typically recorded by placing a mark that identifies the player in the box, such as an initial. The game ends when no more lines can be placed. The winner is the player with the most points.*\n",
        "\n",
        "You can read more about this game [here](https://en.wikipedia.org/wiki/Dots_and_boxes). Try to understand the strategy of the game before you start coding.\n",
        "\n",
        "**We are playing a modified version of Dots and Boxes that does not repeat turns after scoring. This makes the coding easier.**"
      ],
      "metadata": {
        "id": "pTnErIf5N-l_"
      }
    },
    {
      "cell_type": "code",
      "source": [
        "#@title Imports\n",
        "import matplotlib.pyplot as plt\n",
        "from random import randint"
      ],
      "metadata": {
        "id": "nFIpKRuUJ81D",
        "cellView": "form"
      },
      "execution_count": 13,
      "outputs": []
    },
    {
      "cell_type": "code",
      "source": [
        "#@title Line Class\n",
        "# Define a class representing on line on a Dots and Boxes board\n",
        "# Do Not Change!\n",
        "\n",
        "class Line:\n",
        "  def __init__(self, start: tuple, end: tuple) -> None:\n",
        "    self.start = start\n",
        "    self.end = end\n",
        "\n",
        "  def __len__(self) -> int:\n",
        "    return (self.end[0] - self.start[0]) +  (self.end[1] - self.start[1])\n",
        "\n",
        "  def __hash__(self):\n",
        "    return hash(self.start) ^ hash(self.end)\n",
        "\n",
        "  def __eq__(self, other):\n",
        "    return self.start[0] == other.start[0] and \\\n",
        "      self.start[1] == other.start[1] and \\\n",
        "      self.end[0] == other.end[0] and \\\n",
        "      self.end[1] == other.end[1]"
      ],
      "metadata": {
        "id": "A65ZmX_xM9K1",
        "cellView": "form"
      },
      "execution_count": 12,
      "outputs": []
    },
    {
      "cell_type": "code",
      "execution_count": 11,
      "metadata": {
        "colab": {
          "base_uri": "https://localhost:8080/",
          "height": 441
        },
        "id": "V2TXNEoSJWMH",
        "outputId": "ffa00249-dd93-46a6-d054-1ccf581ed289",
        "cellView": "form"
      },
      "outputs": [
        {
          "output_type": "stream",
          "name": "stdout",
          "text": [
            "Player 1 score: 0\n",
            "Player 2 score: 0\n"
          ]
        },
        {
          "output_type": "display_data",
          "data": {
            "text/plain": [
              "<Figure size 640x480 with 1 Axes>"
            ],
            "image/png": "[encoded data removed]"
          },
          "metadata": {}
        }
      ],
      "source": [
        "#@title Dots_and_Boxes Class\n",
        "# Define a Dots and Boxes Class\n",
        "# Do Not Change!\n",
        "\n",
        "class Dots_and_Boxes:\n",
        "  \"\"\"\n",
        "  A class representing an arbitrary sized game of Dots and Boxes\n",
        "\n",
        "  Attributes:\n",
        "    num_rows              the number of box rows (1 less than dot rows)\n",
        "    num_cols              the number of box columns (1 less than dot cols)\n",
        "    p1_lines              lines played by Player 1 so far\n",
        "    p2_lines              lines played by Player 2 so far\n",
        "    max                   the max number of lines that fit on the board\n",
        "\n",
        "    Methods:\n",
        "    init                  constructor\n",
        "    draw_dots_and_boxes   draw the board\n",
        "    p1_place              place a line for player 1\n",
        "    p2_place              place a line for player 2\n",
        "    print_p1_score        print the score for player 1\n",
        "    print_p2_score        print the score for player 2\n",
        "    is_full               true if the board is full, false otherwise\n",
        "  \"\"\"\n",
        "  def __init__(self, num_rows=2, num_cols=2):\n",
        "    self.num_rows = num_rows\n",
        "    self.num_cols = num_cols\n",
        "    self.p1_lines = set()\n",
        "    self.p2_lines = set()\n",
        "    self.max = 4*sum(list(range(1, num_rows+1)))\n",
        "\n",
        "  def draw_dots_and_boxes(self):\n",
        "      fig, ax = plt.subplots()\n",
        "      for i in range(self.num_rows + 1):\n",
        "          for j in range(self.num_cols + 1):\n",
        "              ax.plot(j, i, 'ko', markersize=8)\n",
        "\n",
        "      # # Plot Player 1 Lines in Blue\n",
        "      for line in self.p1_lines:\n",
        "        ax.plot([line.start[0], line.end[0]],\n",
        "         [line.start[1], line.end[1]], c='blue')\n",
        "\n",
        "      # # Plot Player 2 Lines in Blue\n",
        "      for line in self.p2_lines:\n",
        "        ax.plot([line.start[0], line.end[0]],\n",
        "         [line.start[1], line.end[1]], c='red')\n",
        "\n",
        "      # Set axis limits and remove ticks\n",
        "      ax.set_xlim(-1, self.num_cols + 1)\n",
        "      ax.set_ylim(-1, self.num_rows + 1)\n",
        "      ax.set_xticks([])\n",
        "      ax.set_yticks([])\n",
        "\n",
        "      # Show the plot\n",
        "      plt.show()\n",
        "\n",
        "  def p1_place(self, m: Line) -> None:\n",
        "    assert len(m) == 1, \"Line is too long or too short\"\n",
        "    assert m not in self.p1_lines and m not in self.p2_lines, \"Move already played\"\n",
        "    self.p1_lines.add(m)\n",
        "\n",
        "  def p2_place(self, m: Line) -> None:\n",
        "    assert len(m) == 1, \"Line is too long or too short\"\n",
        "    assert m not in self.p1_lines and m not in self.p2_lines, \"Move already played\"\n",
        "    self.p2_lines.add(m)\n",
        "\n",
        "  def print_p1_score(self) -> None:\n",
        "    score = 0\n",
        "    for row in range(self.num_rows):\n",
        "      for col in range(self.num_cols):\n",
        "        if Line((row, col), (row, col+1)) in self.p1_lines and \\\n",
        "          Line((row+1, col), (row+1, col+1)) in self.p1_lines and \\\n",
        "          Line((row, col), (row+1, col)) in self.p1_lines and \\\n",
        "          Line((row, col+1), (row+1, col+1)) in self.p1_lines:\n",
        "            score += 1\n",
        "    print(f'Player 1 score: {score}')\n",
        "\n",
        "  def print_p2_score(self) -> None:\n",
        "    score = 0\n",
        "    for row in range(self.num_rows):\n",
        "      for col in range(self.num_cols):\n",
        "        if Line((row, col), (row, col+1)) in self.p2_lines and \\\n",
        "          Line((row+1, col), (row+1, col+1)) in self.p2_lines and \\\n",
        "          Line((row, col), (row+1, col)) in self.p2_lines and \\\n",
        "          Line((row, col+1), (row+1, col+1)) in self.p2_lines:\n",
        "            score += 1\n",
        "    print(f'Player 2 score: {score}')\n",
        "\n",
        "  def is_full(self):\n",
        "    return len(self.p1_lines) + len(self.p2_lines) >= self.max\n",
        "\n",
        "# Example usage: 3x3 Dots and Boxes board\n",
        "board = Dots_and_Boxes(2, 2)\n",
        "board.print_p1_score()\n",
        "board.print_p2_score()\n",
        "board.draw_dots_and_boxes()\n",
        "del board"
      ]
    },
    {
      "cell_type": "markdown",
      "source": [
        "**FILL IN THIS SECTION**\n",
        "\n",
        "ANSWER THE QUESTION BELOW BY TYPING IN THIS BOX.\n",
        "\n",
        "How would you evaluate a Dots and Boxes board? What can you look for that indicates you are close to winning?"
      ],
      "metadata": {
        "id": "sURaGI4BOUs4"
      }
    },
    {
      "cell_type": "code",
      "source": [
        "# FILL IN THIS SECTION\n",
        "\n",
        "def evaluate(b: Dots_and_Boxes) -> float:\n",
        "  \"\"\"\n",
        "  Implement your strategy to evaluate a Dots and Boxes board.\n",
        "  You should do some reading to understand the strategy of Dots and Boxes.\n",
        "  Assume that you are the Max player, so bigger is better.\n",
        "  Consider that the board might be in a terminal state.\n",
        "  \"\"\"\n",
        "  return 0.0"
      ],
      "metadata": {
        "id": "GaUHHFTeOmBu"
      },
      "execution_count": 4,
      "outputs": []
    },
    {
      "cell_type": "code",
      "source": [
        "# Define a function to select Player 1's move\n",
        "# This bot picks a random, legal move\n",
        "# Do Not Change!\n",
        "\n",
        "def pick_p1_move(b: Dots_and_Boxes) -> Line:\n",
        "  move = Line((0,0), (0,1))\n",
        "  while move in b.p1_lines or move in b.p2_lines:\n",
        "    if randint(0,1) == 0: #place vertical line\n",
        "      row = randint(0, b.num_rows)\n",
        "      col = randint(0, b.num_cols-1)\n",
        "      move = Line((row, col), (row, col+1))\n",
        "    else:                 #place horizontal line\n",
        "      row = randint(0, b.num_rows-1)\n",
        "      col = randint(0, b.num_cols)\n",
        "      move = Line((row, col), (row+1, col))\n",
        "  return move\n"
      ],
      "metadata": {
        "id": "wKiZTYa3PRGH"
      },
      "execution_count": 5,
      "outputs": []
    },
    {
      "cell_type": "code",
      "source": [
        "# FILL IN THIS SECTION\n",
        "\n",
        "def pick_p2_move(b: Dots_and_Boxes) -> Line:\n",
        "  \"\"\"\n",
        "  Implement the minimax adverserial search algorithm.\n",
        "  You are the Max player. Return the move with the\n",
        "  highest evaluation.\n",
        "  \"\"\"\n",
        "  return Line(start=(0,0), end=(1,0))"
      ],
      "metadata": {
        "id": "WCHcFFKrSI4P"
      },
      "execution_count": 6,
      "outputs": []
    },
    {
      "cell_type": "code",
      "source": [
        "# Play a 2x2 game against a computer opponent.\n",
        "# Your \"pick move\" function is playing as Player 2\n",
        "# Your opponent plays first, but will only choose random moves\n",
        "# You should be able to beat your opponent\n",
        "# Only the final board state will be drawn\n",
        "\n",
        "# Do Not Change!\n",
        "\n",
        "board = Dots_and_Boxes(2, 2)\n",
        "while not board.is_full():\n",
        "  p1_move = pick_p1_move(board)\n",
        "  board.p1_place(p1_move)\n",
        "  if board.is_full():\n",
        "    break\n",
        "  p2_move = pick_p2_move(board)\n",
        "  board.p2_place(p2_move)\n",
        "\n",
        "board.print_p1_score()\n",
        "board.print_p2_score()\n",
        "board.draw_dots_and_boxes()"
      ],
      "metadata": {
        "colab": {
          "base_uri": "https://localhost:8080/",
          "height": 337
        },
        "id": "jjJi5pnMSv2w",
        "outputId": "31aaf237-0de0-467a-f7a0-8e15283b7862"
      },
      "execution_count": 14,
      "outputs": [
        {
          "output_type": "error",
          "ename": "AssertionError",
          "evalue": "Move already played",
          "traceback": [
            "\u001b[0;31m---------------------------------------------------------------------------\u001b[0m",
            "\u001b[0;31mAssertionError\u001b[0m                            Traceback (most recent call last)",
            "\u001b[0;32m<ipython-input-14-22014dc889cb>\u001b[0m in \u001b[0;36m<cell line: 10>\u001b[0;34m()\u001b[0m\n\u001b[1;32m     14\u001b[0m     \u001b[0;32mbreak\u001b[0m\u001b[0;34m\u001b[0m\u001b[0;34m\u001b[0m\u001b[0m\n\u001b[1;32m     15\u001b[0m   \u001b[0mp2_move\u001b[0m \u001b[0;34m=\u001b[0m \u001b[0mpick_p2_move\u001b[0m\u001b[0;34m(\u001b[0m\u001b[0mboard\u001b[0m\u001b[0;34m)\u001b[0m\u001b[0;34m\u001b[0m\u001b[0;34m\u001b[0m\u001b[0m\n\u001b[0;32m---> 16\u001b[0;31m   \u001b[0mboard\u001b[0m\u001b[0;34m.\u001b[0m\u001b[0mp2_place\u001b[0m\u001b[0;34m(\u001b[0m\u001b[0mp2_move\u001b[0m\u001b[0;34m)\u001b[0m\u001b[0;34m\u001b[0m\u001b[0;34m\u001b[0m\u001b[0m\n\u001b[0m\u001b[1;32m     17\u001b[0m \u001b[0;34m\u001b[0m\u001b[0m\n\u001b[1;32m     18\u001b[0m \u001b[0mboard\u001b[0m\u001b[0;34m.\u001b[0m\u001b[0mprint_p1_score\u001b[0m\u001b[0;34m(\u001b[0m\u001b[0;34m)\u001b[0m\u001b[0;34m\u001b[0m\u001b[0;34m\u001b[0m\u001b[0m\n",
            "\u001b[0;32m<ipython-input-11-4b10d7a09549>\u001b[0m in \u001b[0;36mp2_place\u001b[0;34m(self, m)\u001b[0m\n\u001b[1;32m     62\u001b[0m   \u001b[0;32mdef\u001b[0m \u001b[0mp2_place\u001b[0m\u001b[0;34m(\u001b[0m\u001b[0mself\u001b[0m\u001b[0;34m,\u001b[0m \u001b[0mm\u001b[0m\u001b[0;34m:\u001b[0m \u001b[0mLine\u001b[0m\u001b[0;34m)\u001b[0m \u001b[0;34m->\u001b[0m \u001b[0;32mNone\u001b[0m\u001b[0;34m:\u001b[0m\u001b[0;34m\u001b[0m\u001b[0;34m\u001b[0m\u001b[0m\n\u001b[1;32m     63\u001b[0m     \u001b[0;32massert\u001b[0m \u001b[0mlen\u001b[0m\u001b[0;34m(\u001b[0m\u001b[0mm\u001b[0m\u001b[0;34m)\u001b[0m \u001b[0;34m==\u001b[0m \u001b[0;36m1\u001b[0m\u001b[0;34m,\u001b[0m \u001b[0;34m\"Line is too long or too short\"\u001b[0m\u001b[0;34m\u001b[0m\u001b[0;34m\u001b[0m\u001b[0m\n\u001b[0;32m---> 64\u001b[0;31m     \u001b[0;32massert\u001b[0m \u001b[0mm\u001b[0m \u001b[0;32mnot\u001b[0m \u001b[0;32min\u001b[0m \u001b[0mself\u001b[0m\u001b[0;34m.\u001b[0m\u001b[0mp1_lines\u001b[0m \u001b[0;32mand\u001b[0m \u001b[0mm\u001b[0m \u001b[0;32mnot\u001b[0m \u001b[0;32min\u001b[0m \u001b[0mself\u001b[0m\u001b[0;34m.\u001b[0m\u001b[0mp2_lines\u001b[0m\u001b[0;34m,\u001b[0m \u001b[0;34m\"Move already played\"\u001b[0m\u001b[0;34m\u001b[0m\u001b[0;34m\u001b[0m\u001b[0m\n\u001b[0m\u001b[1;32m     65\u001b[0m     \u001b[0mself\u001b[0m\u001b[0;34m.\u001b[0m\u001b[0mp2_lines\u001b[0m\u001b[0;34m.\u001b[0m\u001b[0madd\u001b[0m\u001b[0;34m(\u001b[0m\u001b[0mm\u001b[0m\u001b[0;34m)\u001b[0m\u001b[0;34m\u001b[0m\u001b[0;34m\u001b[0m\u001b[0m\n\u001b[1;32m     66\u001b[0m \u001b[0;34m\u001b[0m\u001b[0m\n",
            "\u001b[0;31mAssertionError\u001b[0m: Move already played"
          ]
        }
      ]
    }
  ]
}